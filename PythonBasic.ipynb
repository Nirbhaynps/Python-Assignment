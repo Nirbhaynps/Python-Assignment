{
 "cells": [
  {
   "cell_type": "code",
   "execution_count": 1,
   "id": "8887c399-2479-406c-a4f6-f301df733f47",
   "metadata": {},
   "outputs": [],
   "source": [
    "#Q1. Explain the key features of Python that make it a popular choice for programming."
   ]
  },
  {
   "cell_type": "raw",
   "id": "2cb7b2b1-39c3-48c9-b706-5b2675d590e3",
   "metadata": {},
   "source": [
    "1. Simple and clean:\n",
    "Python's syntax is clean and easy to read, making it a great choice for brginners.\n",
    "2. Multiple use cases:\n",
    "Python can be used for a wide range of applications, from web development to data science and machine learning.\n",
    "3. Large Standard Library:\n",
    "Python comes with a large number of libraries, whic provides modules and packages for various tasks.\n",
    "4. Open Source:\n",
    "Python is open source means there is continous development to make it even better.\n",
    "5. It is Object-Orieted Programming:\n",
    "Python is fully object-oriented, enabling developers to create classes and object to model real-world entities.\n",
    "6. Cross Platform Compatibility:\n",
    "Python is platform-independent, which means python programs can run on various operating systems."
   ]
  },
  {
   "cell_type": "code",
   "execution_count": 2,
   "id": "95fba415-b3b8-4a81-a75b-cf36d41403ee",
   "metadata": {},
   "outputs": [],
   "source": [
    "#Q2. Describe the role of predefined keywords in Python and provide examples of how they are used in a\n",
    "#program"
   ]
  },
  {
   "cell_type": "raw",
   "id": "e9080b37-11cc-4aed-893b-00515e3e82e4",
   "metadata": {},
   "source": [
    "These keywords are also known as reserve keywords, these are developed to perform certain predefined tasks and they cannot be used as ideftifiers.\n",
    "\n",
    "Example:\n",
    "1.if,else: used for conditional statements and is widely used.\n",
    "2. while: it is used for loop, to repeat a block of code for certain conditions are not met.\n",
    "3. print: used for printing a statement.\n",
    "4. break: to control the flow of the code by breaking the loop.\n",
    "5. continue: to control the flow of the code by skipping the certain iteration.\n",
    "#Program Example"
   ]
  },
  {
   "cell_type": "code",
   "execution_count": 3,
   "id": "b93db0f2-3658-45a3-8457-aaeeba9dee69",
   "metadata": {},
   "outputs": [
    {
     "name": "stdout",
     "output_type": "stream",
     "text": [
      "This is an example of if\n"
     ]
    }
   ],
   "source": [
    "#use of if, else\n",
    "\n",
    "a=5\n",
    "if a>4:\n",
    "    print(\"This is an example of if\")"
   ]
  },
  {
   "cell_type": "code",
   "execution_count": 4,
   "id": "5fa66599-0c3e-418e-894d-f2923753b096",
   "metadata": {},
   "outputs": [
    {
     "name": "stdout",
     "output_type": "stream",
     "text": [
      "This is the example of else\n"
     ]
    }
   ],
   "source": [
    "a=4\n",
    "if a>8:\n",
    "    print(\"This is an example of if\")\n",
    "else:\n",
    "    print(\"This is the example of else\")"
   ]
  },
  {
   "cell_type": "code",
   "execution_count": 1,
   "id": "a4a4d960-d168-42d5-ae45-3fc9b7294228",
   "metadata": {},
   "outputs": [],
   "source": [
    "#Q3 Compare and contrast mutable and immutable objects in Python with examples"
   ]
  },
  {
   "cell_type": "raw",
   "id": "a02fea30-903a-4b2c-9aef-fa996ba31018",
   "metadata": {},
   "source": [
    "Mutable Objects: Can be changed after they have been created.\n",
    "Characters: 1. Content can be modified.\n",
    "            2. Have methods that aloow in-place changes.\n",
    "            3. Stored in memory in a way that allows updates.\n",
    "\n",
    "Examples: 1.List[]\n",
    "          2.Dictionaries{}\n",
    "          3.Sets()\n",
    "\n",
    "Immutable Objects: Immutable objects cannot be changed or modified after they are being created.\n",
    "Characters: 1. Any change results in new object being created.\n",
    "            2. Used as dicitionary keys because they are hashable.\n",
    "            3. More memory efficient in some cases.\n",
    "\n",
    "Examples: 1. Integers\n",
    "          2. Floats\n",
    "          3. Strings \n",
    "          4. Tuples()\n",
    "          5. Booleans"
   ]
  },
  {
   "cell_type": "code",
   "execution_count": 6,
   "id": "8477fd20-b0df-4fbe-8e5a-9376a665d2b0",
   "metadata": {},
   "outputs": [
    {
     "data": {
      "text/plain": [
       "[4, 5, 'PWSkills', 8]"
      ]
     },
     "execution_count": 6,
     "metadata": {},
     "output_type": "execute_result"
    }
   ],
   "source": [
    "#mutable\n",
    "mylist=[4,5,\"Nirbhay\",8]\n",
    "mylist\n",
    "mylist[2]=\"PWSkills\"\n",
    "mylist\n",
    "#Nirbhay will be changed by PWSkills"
   ]
  },
  {
   "cell_type": "code",
   "execution_count": 5,
   "id": "1c81e4d0-731f-49ca-ba3d-4b2901d5c5db",
   "metadata": {},
   "outputs": [
    {
     "name": "stdout",
     "output_type": "stream",
     "text": [
      "original data: hello\n",
      "modified: helloworld\n"
     ]
    }
   ],
   "source": [
    "#immutable\n",
    "x=\"hello\"\n",
    "print(\"original data:\",x)\n",
    "\n",
    "x=x+ \"world\"\n",
    "print(\"modified:\",x)\n",
    "\n",
    "#old string didn't get changed instead a new string was created"
   ]
  },
  {
   "cell_type": "code",
   "execution_count": 7,
   "id": "91652e08-57b8-4c8d-bc41-052ffc1b7d37",
   "metadata": {},
   "outputs": [],
   "source": [
    "#Q4 Discuss the different types of operators in Python and provide examples of how they are \n",
    "#used"
   ]
  },
  {
   "cell_type": "raw",
   "id": "2ecb9fe8-e81e-4f72-96ea-acfa47f9b3fc",
   "metadata": {},
   "source": [
    "Types of operators:\n",
    "1. Arthimetic Operators: they are used to do arthimetic operations.\n",
    "(+,-,*,/,%,**,//)\n",
    "2. Comparison Operators: they are used to do comparisons among values, return True or False.\n",
    "(==,>=,<=.!=,>,<)\n",
    "3. Logical Operators: Used to combine conditional statements.\n",
    "(and,or,not)\n",
    "4. Assignment Operator: Used to assign values to the variables.\n",
    "(=,+=,-=,*=,/=)\n",
    "5. Bitwise Operator: It compare on bit level manipulating individual bits with integer.\n",
    "(& AND,` OR,^ XOR,~ NOT,<< Left Shift,>> Right Shift)\n",
    "6. Membership Operator: Test if a values exists in a sequence.\n",
    "(in, not in)\n",
    "7. Identity Opearator: Check if two variables refer to the same object.\n",
    "(is, is not)\n"
   ]
  },
  {
   "cell_type": "code",
   "execution_count": 13,
   "id": "ea3d8d7d-cdc4-4720-a0d9-636ebd41002b",
   "metadata": {},
   "outputs": [
    {
     "name": "stdout",
     "output_type": "stream",
     "text": [
      "9\n",
      "3125\n"
     ]
    }
   ],
   "source": [
    "#Example Arthimetic Operators\n",
    "a=5\n",
    "b=4\n",
    "a+b\n",
    "print(a+b)\n",
    "\n",
    "i=5**5\n",
    "print(i)"
   ]
  },
  {
   "cell_type": "code",
   "execution_count": 14,
   "id": "cbe1455e-15cc-443c-8037-799eab25db39",
   "metadata": {},
   "outputs": [
    {
     "data": {
      "text/plain": [
       "False"
      ]
     },
     "execution_count": 14,
     "metadata": {},
     "output_type": "execute_result"
    }
   ],
   "source": [
    "#Example Comparison Operators\n",
    "a=5\n",
    "b=4\n",
    "a==b"
   ]
  },
  {
   "cell_type": "code",
   "execution_count": null,
   "id": "21aa9127-7491-4c44-9482-d8c2c7079b3c",
   "metadata": {},
   "outputs": [],
   "source": [
    "#Q5Explain the concept of type casting in Python with examples."
   ]
  },
  {
   "cell_type": "raw",
   "id": "c0b40281-088c-4cd3-9fef-15769992a426",
   "metadata": {},
   "source": [
    "Type casting in python is the process of converting one data type to another according to thr use cases by providing built in functions."
   ]
  },
  {
   "cell_type": "code",
   "execution_count": 3,
   "id": "f8bbbb6e-3120-471c-85c7-6ece0da7d29e",
   "metadata": {},
   "outputs": [
    {
     "data": {
      "text/plain": [
       "str"
      ]
     },
     "execution_count": 3,
     "metadata": {},
     "output_type": "execute_result"
    }
   ],
   "source": [
    "#Examples of type casting.\n",
    "x=\"10\"\n",
    "type(x)"
   ]
  },
  {
   "cell_type": "code",
   "execution_count": 5,
   "id": "87d9ec0b-1ccb-4c0b-affa-f634010bba72",
   "metadata": {},
   "outputs": [
    {
     "name": "stdout",
     "output_type": "stream",
     "text": [
      "15\n"
     ]
    }
   ],
   "source": [
    "#here the type of x is a int we can change it by using type casting as:\n",
    "y=int(x)\n",
    "print(5+y)\n"
   ]
  },
  {
   "cell_type": "code",
   "execution_count": 7,
   "id": "9244e2c2-c78d-4c24-82c1-23a684b4f898",
   "metadata": {},
   "outputs": [
    {
     "data": {
      "text/plain": [
       "int"
      ]
     },
     "execution_count": 7,
     "metadata": {},
     "output_type": "execute_result"
    }
   ],
   "source": [
    "type(y)"
   ]
  },
  {
   "cell_type": "code",
   "execution_count": 9,
   "id": "cc1e3b99-03f8-47e8-be92-e2bfb3195df2",
   "metadata": {},
   "outputs": [
    {
     "data": {
      "text/plain": [
       "float"
      ]
     },
     "execution_count": 9,
     "metadata": {},
     "output_type": "execute_result"
    }
   ],
   "source": [
    "a=5.5\n",
    "type(a)"
   ]
  },
  {
   "cell_type": "code",
   "execution_count": 10,
   "id": "2edfe1ba-d7af-43fa-95ec-85e02a6fd288",
   "metadata": {},
   "outputs": [
    {
     "name": "stdout",
     "output_type": "stream",
     "text": [
      "11\n"
     ]
    }
   ],
   "source": [
    "#here a is a float though we can change its type using type conversion\n",
    "b=int(a)\n",
    "print(6+b)"
   ]
  },
  {
   "cell_type": "code",
   "execution_count": 11,
   "id": "30e0a2e2-9e8c-4dff-a857-cf7c18268688",
   "metadata": {},
   "outputs": [
    {
     "data": {
      "text/plain": [
       "int"
      ]
     },
     "execution_count": 11,
     "metadata": {},
     "output_type": "execute_result"
    }
   ],
   "source": [
    "type(b)"
   ]
  },
  {
   "cell_type": "code",
   "execution_count": 15,
   "id": "e045aea6-db5d-42e2-ba26-6b4b2ef56e09",
   "metadata": {},
   "outputs": [
    {
     "name": "stdout",
     "output_type": "stream",
     "text": [
      "50 points\n"
     ]
    }
   ],
   "source": [
    "#integer to string.\n",
    "a=50\n",
    "b=str(a)\n",
    "print(b + \" points\")"
   ]
  },
  {
   "cell_type": "code",
   "execution_count": 16,
   "id": "5f11f5e0-de14-42f4-9d9c-7be8c2cf91c7",
   "metadata": {},
   "outputs": [],
   "source": [
    "#Q6How do conditional statements work in Python? Illustrate with examples.\n"
   ]
  },
  {
   "cell_type": "raw",
   "id": "f66e6c53-798b-40ec-a089-793d7294dae0",
   "metadata": {},
   "source": [
    "Conditional statements let's us to choose the flow of our program, there are multiple conditional statements in python such as if, else, else if(elif)."
   ]
  },
  {
   "cell_type": "code",
   "execution_count": 17,
   "id": "74e78a13-b344-471d-ac2e-891551fbb8b9",
   "metadata": {},
   "outputs": [
    {
     "name": "stdout",
     "output_type": "stream",
     "text": [
      "PW is the best\n"
     ]
    }
   ],
   "source": [
    "#example of conditional statement.\n",
    "a=10\n",
    "if a<=10:\n",
    "    print(\"PW is the best\")\n",
    "else:\n",
    "    print(\"PW is not best\")\n"
   ]
  },
  {
   "cell_type": "code",
   "execution_count": 21,
   "id": "f1b7c35b-a238-4672-8151-808071c8daf7",
   "metadata": {},
   "outputs": [
    {
     "name": "stdout",
     "output_type": "stream",
     "text": [
      "The person who check this assignment is wonderfull!\n"
     ]
    }
   ],
   "source": [
    "a=11\n",
    "if a==10:\n",
    "    print(\"PW is the best\")\n",
    "elif a>10:\n",
    "    print(\"The person who check this assignment is wonderfull!\")\n",
    "else:\n",
    "    print(\"PW is not best\")\n"
   ]
  },
  {
   "cell_type": "code",
   "execution_count": 22,
   "id": "9244a081-791d-43c9-9bd0-f8f5fcb4bbe0",
   "metadata": {},
   "outputs": [],
   "source": [
    "#Q7Describe the different types of loops in Python and their use cases with examples."
   ]
  },
  {
   "cell_type": "raw",
   "id": "3ea36e98-07c8-4385-b3d9-176ecce78e99",
   "metadata": {},
   "source": [
    "There are multiple types of loops in python such as for, while, do while, break, continue."
   ]
  },
  {
   "cell_type": "code",
   "execution_count": 23,
   "id": "d334f983-d64f-40e8-9616-c15703ff40fc",
   "metadata": {},
   "outputs": [
    {
     "name": "stdout",
     "output_type": "stream",
     "text": [
      "p\n",
      "w\n",
      "s\n",
      "k\n",
      "i\n",
      "l\n",
      "l\n",
      "s\n"
     ]
    }
   ],
   "source": [
    "#For Loop\n",
    "#Used to iterate over a sequence like a list, tuple, string, or range.\n",
    "i=\"pwskills\"\n",
    "for i in \"pwskills\":\n",
    "    print(i)"
   ]
  },
  {
   "cell_type": "code",
   "execution_count": 24,
   "id": "8c6cec21-d0e8-4876-ad21-92b9c744539c",
   "metadata": {},
   "outputs": [
    {
     "name": "stdout",
     "output_type": "stream",
     "text": [
      "*\n",
      "**\n",
      "***\n",
      "****\n"
     ]
    }
   ],
   "source": [
    "for i in range(4):\n",
    "    for j in range(i+1):\n",
    "        print(\"*\", end= \"\")\n",
    "    print()"
   ]
  },
  {
   "cell_type": "code",
   "execution_count": 25,
   "id": "12a1b9c4-b038-4a58-b28d-e512b5f325e8",
   "metadata": {},
   "outputs": [
    {
     "name": "stdout",
     "output_type": "stream",
     "text": [
      "Hello World\n",
      "Hello World\n",
      "Hello World\n",
      "Hello World\n",
      "Hello World\n"
     ]
    }
   ],
   "source": [
    "#while loop\n",
    "a=0\n",
    "while a<=4:\n",
    "    print(\"Hello World\")\n",
    "    a=a+1"
   ]
  },
  {
   "cell_type": "code",
   "execution_count": null,
   "id": "c2729bfd-e94d-430c-b4a9-afacf52b77d1",
   "metadata": {},
   "outputs": [],
   "source": []
  }
 ],
 "metadata": {
  "kernelspec": {
   "display_name": "Python 3 (ipykernel)",
   "language": "python",
   "name": "python3"
  },
  "language_info": {
   "codemirror_mode": {
    "name": "ipython",
    "version": 3
   },
   "file_extension": ".py",
   "mimetype": "text/x-python",
   "name": "python",
   "nbconvert_exporter": "python",
   "pygments_lexer": "ipython3",
   "version": "3.13.2"
  }
 },
 "nbformat": 4,
 "nbformat_minor": 5
}
